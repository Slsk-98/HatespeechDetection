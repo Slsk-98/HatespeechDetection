{
  "nbformat": 4,
  "nbformat_minor": 0,
  "metadata": {
    "colab": {
      "provenance": [],
      "mount_file_id": "169CGJPcQjUDTjyva8rMvNkW9sCinOieB",
      "authorship_tag": "ABX9TyPqAzg9GTCVgbK3q6sLiHrt",
      "include_colab_link": true
    },
    "kernelspec": {
      "name": "python3",
      "display_name": "Python 3"
    }
  },
  "cells": [
    {
      "cell_type": "markdown",
      "metadata": {
        "id": "view-in-github",
        "colab_type": "text"
      },
      "source": [
        "<a href=\"https://colab.research.google.com/github/Slsk-98/HatespeechDetection/blob/main/pca.ipynb\" target=\"_parent\"><img src=\"https://colab.research.google.com/assets/colab-badge.svg\" alt=\"Open In Colab\"/></a>"
      ]
    },
    {
      "cell_type": "code",
      "metadata": {
        "id": "wf1m-9qhjtnR"
      },
      "source": [
        "\n"
      ],
      "execution_count": null,
      "outputs": []
    },
    {
      "cell_type": "code",
      "metadata": {
        "id": "tv57Uq3TOtBa",
        "outputId": "7f5c6429-0d45-43fb-e433-b6e178e47fc1",
        "colab": {
          "base_uri": "https://localhost:8080/",
          "height": 261
        }
      },
      "source": [
        "from pandas import read_csv\n",
        "from sklearn.decomposition import PCA\n",
        "from sklearn.preprocessing import StandardScaler\n",
        "import os\n",
        "import pandas as pd\n",
        "import numpy as np\n",
        "import csv\n",
        "folder='/content/drive/My Drive/Hate Speech Detection/Project Codes/Hate bigrams'\n",
        "folder1='/content/drive/My Drive/Hate Speech Detection/Project Codes/Offensive bigrams'\n",
        "folder2='/content/drive/My Drive/Hate Speech Detection/Project Codes/Neutral bigrams'\n",
        "sample=[]\n",
        "count=0\n",
        "features=[]\n",
        "for file in os.listdir('/content/drive/My Drive/Hate Speech Detection/Project Codes/Hate bigrams'):\n",
        "  filepath=os.path.join(folder,file)\n",
        "  f=open(filepath,'r')\n",
        "  for line in f:\n",
        "    sample.append(line.rstrip())\n",
        "  f.close()\n",
        "#print(sample)\n",
        "headerlist=[]\n",
        "for name in sample:\n",
        "  if name not in headerlist:\n",
        "    headerlist.append(name)\n",
        "features=headerlist\n",
        "headerlist.append('class')\n",
        "print('1')\n",
        "l=len(headerlist)\n",
        "df1=pd.read_csv('/content/drive/My Drive/Hate Speech Detection/Project Codes/rough inp/hate.csv')\n",
        "x=df1.loc[:, features].values\n",
        "y=df1.loc[:,['class']].values\n",
        "\n",
        "x=StandardScaler().fit_transform(x)\n",
        "pca=PCA(n_components=100)\n",
        "principalComponents=pca.fit_transform(x)\n",
        "principalDf=pd.DataFrame(data=principalComponents)\n",
        "finalDf=pd.concat([principalDf,df1[['class']]],axis=1)\n",
        "print(finalDf)\n",
        "\n"
      ],
      "execution_count": null,
      "outputs": [
        {
          "output_type": "stream",
          "text": [
            "1\n",
            "               0             1             2  ...            98            99  class\n",
            "0      70.411363  8.514129e-19  8.514129e-19  ...  8.514129e-19  8.514129e-19      1\n",
            "1      -0.008521  1.573321e-14 -3.183771e-23  ... -3.183771e-23 -3.183771e-23      0\n",
            "2      -0.008521 -3.183771e-23  1.573321e-14  ... -3.183771e-23 -3.183771e-23      0\n",
            "3      -0.008521 -3.183771e-23 -3.183771e-23  ... -3.183771e-23 -3.183771e-23      0\n",
            "4      -0.008521 -3.183771e-23 -3.183771e-23  ... -3.183771e-23 -3.183771e-23      0\n",
            "...          ...           ...           ...  ...           ...           ...    ...\n",
            "24788  -0.008521 -3.183771e-23 -3.183771e-23  ... -3.183771e-23 -3.183771e-23      0\n",
            "24789  -0.008521 -3.183771e-23 -3.183771e-23  ... -3.183771e-23 -3.183771e-23      0\n",
            "24790  -0.008521 -3.183771e-23 -3.183771e-23  ... -3.183771e-23 -3.183771e-23      0\n",
            "24791  -0.008521 -3.183771e-23 -3.183771e-23  ... -3.183771e-23 -3.183771e-23      0\n",
            "24792  -0.008521 -3.183771e-23 -3.183771e-23  ... -3.183771e-23 -3.183771e-23      0\n",
            "\n",
            "[24793 rows x 101 columns]\n"
          ],
          "name": "stdout"
        }
      ]
    }
  ]
}